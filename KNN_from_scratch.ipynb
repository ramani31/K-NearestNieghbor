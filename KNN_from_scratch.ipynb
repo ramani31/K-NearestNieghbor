{
 "cells": [
  {
   "cell_type": "code",
   "execution_count": 39,
   "metadata": {},
   "outputs": [],
   "source": [
    "from sklearn.neighbors import KNeighborsClassifier\n",
    "from sklearn.model_selection import train_test_split\n",
    "from sklearn.metrics import accuracy_score\n",
    "from sklearn import datasets\n",
    "from collections import Counter"
   ]
  },
  {
   "cell_type": "code",
   "execution_count": 6,
   "metadata": {},
   "outputs": [],
   "source": [
    "df=datasets.load_breast_cancer()"
   ]
  },
  {
   "cell_type": "code",
   "execution_count": 8,
   "metadata": {},
   "outputs": [],
   "source": [
    "X_train, X_test,Y_train, Y_test=train_test_split(df.data, df.target, test_size=0.2, random_state=0)"
   ]
  },
  {
   "cell_type": "markdown",
   "metadata": {},
   "source": [
    "sklearn implementation:-"
   ]
  },
  {
   "cell_type": "code",
   "execution_count": 27,
   "metadata": {},
   "outputs": [
    {
     "data": {
      "text/plain": [
       "KNeighborsClassifier(n_neighbors=7)"
      ]
     },
     "execution_count": 27,
     "metadata": {},
     "output_type": "execute_result"
    }
   ],
   "source": [
    "clf=KNeighborsClassifier(n_neighbors=7)\n",
    "clf.fit(X_train, Y_train)"
   ]
  },
  {
   "cell_type": "code",
   "execution_count": 28,
   "metadata": {},
   "outputs": [],
   "source": [
    "y_pred=clf.predict(X_test)"
   ]
  },
  {
   "cell_type": "code",
   "execution_count": 29,
   "metadata": {},
   "outputs": [
    {
     "name": "stdout",
     "output_type": "stream",
     "text": [
      " Using KNN implementation of sklearn, the accuracy score is 0.9473684210526315\n"
     ]
    }
   ],
   "source": [
    "print(f' Using KNN implementation of sklearn, the accuracy score is {accuracy_score(Y_test, y_pred)}')"
   ]
  },
  {
   "cell_type": "markdown",
   "metadata": {},
   "source": [
    "from scratch:-"
   ]
  },
  {
   "cell_type": "code",
   "execution_count": 40,
   "metadata": {},
   "outputs": [],
   "source": [
    "def predict_single_point(x_train, Y_train,x_test, k):\n",
    "    ##this function accepts X_train, Y_train, single row of X_test and value of k and \n",
    "    #returns the predicted value for single data point from test\n",
    "    all_distances=[]\n",
    "    for i in range(len(x_train)):\n",
    "        #using euclidean distance to calculate distances between all the X_train observations and x_test (single data point)\n",
    "        each_distance=((x_train[i,:]-x_test)**2).sum()\n",
    "        all_distances.append([each_distance,i])\n",
    "        \n",
    "    #sort all the neighbors based on the distance.\n",
    "    all_distances=sorted(all_distances)\n",
    "    \n",
    "    #selecting k nighbors based on closest proximity and then applying voting in respective y_train observations\n",
    "    targets_for_voting=[]\n",
    "    for j in range(k):\n",
    "        index_of_nieghbor=all_distances[j][1]\n",
    "        #subset the Y_train observation which are within k nighbors\n",
    "        targets_for_voting.append(Y_train[index_of_nieghbor])\n",
    "        \n",
    "        #return the class with highest vote \n",
    "    return Counter(targets_for_voting).most_common()[0][0]    \n",
    "    "
   ]
  },
  {
   "cell_type": "code",
   "execution_count": 47,
   "metadata": {},
   "outputs": [],
   "source": [
    "def predict(X_train, Y_train, X_test, k):\n",
    "    #this function iterates through every row in test dataset to return predictions\n",
    "    y_predictions=[]\n",
    "    for x_test in X_test:\n",
    "        y_predictions.append(predict_single_point(X_train, Y_train,x_test, k))\n",
    "    return y_predictions\n",
    "        "
   ]
  },
  {
   "cell_type": "code",
   "execution_count": 48,
   "metadata": {},
   "outputs": [],
   "source": [
    "y_pred_=predict(X_train, Y_train,X_test,7)"
   ]
  },
  {
   "cell_type": "code",
   "execution_count": 50,
   "metadata": {},
   "outputs": [
    {
     "name": "stdout",
     "output_type": "stream",
     "text": [
      "Using KNN implementation written from Scratch, the accuracy score is 0.9473684210526315\n"
     ]
    }
   ],
   "source": [
    "print(f'Using KNN implementation written from Scratch, the accuracy score is {accuracy_score(Y_test,y_pred_)}')"
   ]
  }
 ],
 "metadata": {
  "kernelspec": {
   "display_name": "Python 3",
   "language": "python",
   "name": "python3"
  },
  "language_info": {
   "codemirror_mode": {
    "name": "ipython",
    "version": 3
   },
   "file_extension": ".py",
   "mimetype": "text/x-python",
   "name": "python",
   "nbconvert_exporter": "python",
   "pygments_lexer": "ipython3",
   "version": "3.6.10"
  }
 },
 "nbformat": 4,
 "nbformat_minor": 4
}
